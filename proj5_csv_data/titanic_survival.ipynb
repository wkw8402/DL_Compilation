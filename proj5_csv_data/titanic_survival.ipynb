{
  "nbformat": 4,
  "nbformat_minor": 0,
  "metadata": {
    "colab": {
      "provenance": []
    },
    "kernelspec": {
      "name": "python3",
      "display_name": "Python 3"
    },
    "language_info": {
      "name": "python"
    }
  },
  "cells": [
    {
      "cell_type": "code",
      "execution_count": null,
      "metadata": {
        "id": "aBF5i1PdnB5w"
      },
      "outputs": [],
      "source": [
        "import pandas as pd\n",
        "\n",
        "data = pd.read_csv('drive/My Drive/Colab Notebooks/titanicdata/train.csv')\n",
        "print(data)\n",
        "\n",
        "print(data.isnull().sum())\n",
        "\n",
        "average = data['Age'].mean()\n",
        "print(average)\n",
        "\n",
        "mode = data['Embarked'].mode()\n",
        "\n",
        "data['Age'].fillna(value=30, inplace=True)\n",
        "data['Embarked'].fillna(value='S', inplace=True)\n",
        "\n",
        "print(data.isnull().sum())"
      ]
    },
    {
      "cell_type": "code",
      "source": [
        "import tensorflow as tf\n",
        "\n",
        "key = data.pop('Survived')\n",
        "\n",
        "ds = tf.data.Dataset.from_tensor_slices( (dict(data), key) )\n",
        "print(ds)\n"
      ],
      "metadata": {
        "colab": {
          "base_uri": "https://localhost:8080/"
        },
        "id": "bt3EvDOnpJjX",
        "outputId": "b4752c58-566a-4d77-a846-80adee79d756"
      },
      "execution_count": 9,
      "outputs": [
        {
          "output_type": "stream",
          "name": "stdout",
          "text": [
            "<_TensorSliceDataset element_spec=({'PassengerId': TensorSpec(shape=(), dtype=tf.int64, name=None), 'Pclass': TensorSpec(shape=(), dtype=tf.int64, name=None), 'Name': TensorSpec(shape=(), dtype=tf.string, name=None), 'Sex': TensorSpec(shape=(), dtype=tf.string, name=None), 'Age': TensorSpec(shape=(), dtype=tf.float64, name=None), 'SibSp': TensorSpec(shape=(), dtype=tf.int64, name=None), 'Parch': TensorSpec(shape=(), dtype=tf.int64, name=None), 'Ticket': TensorSpec(shape=(), dtype=tf.string, name=None), 'Fare': TensorSpec(shape=(), dtype=tf.float64, name=None), 'Embarked': TensorSpec(shape=(), dtype=tf.string, name=None)}, TensorSpec(shape=(), dtype=tf.int64, name=None))>\n"
          ]
        }
      ]
    },
    {
      "cell_type": "code",
      "source": [
        "feature_columns=[ ]\n",
        "\n",
        "def norm(x):\n",
        "  min = data['Fare'].min()\n",
        "  max = data['Fare'].max()\n",
        "  return (x - min) / (max - min) #compress fare into 0 to 1\n",
        "\n",
        "# put as integers itself\n",
        "feature_columns.append( tf.feature_column.numeric_column('Fare', normalizer_fn= norm ) )\n",
        "feature_columns.append( tf.feature_column.numeric_column('Parch') )\n",
        "feature_columns.append( tf.feature_column.numeric_column('SibSp') )\n",
        "\n",
        "# put as groups=bucketized, 10s, 20s, 30s, ...\n",
        "Age = tf.feature_column.numeric_column('Age')\n",
        "Age_bucket = tf.feature_column.bucketized_column(Age, boundaries=[10,20,30,40,50,60] )\n",
        "feature_columns.append( Age_bucket )\n",
        "\n",
        "# put as categorized = one hot encoding, not many kinds\n",
        "vocab = data['Sex'].unique()\n",
        "cat = tf.feature_column.categorical_column_with_vocabulary_list('Sex', vocab)\n",
        "one_hot = tf.feature_column.indicator_column(cat)\n",
        "feature_columns.append( one_hot )\n",
        "\n",
        "vocab = data['Embarked'].unique()\n",
        "cat = tf.feature_column.categorical_column_with_vocabulary_list('Embarked', vocab)\n",
        "one_hot = tf.feature_column.indicator_column(cat)\n",
        "feature_columns.append( one_hot )\n",
        "\n",
        "vocab = data['Pclass'].unique()\n",
        "cat = tf.feature_column.categorical_column_with_vocabulary_list('Pclass', vocab)\n",
        "one_hot = tf.feature_column.indicator_column(cat)\n",
        "feature_columns.append( one_hot )\n",
        "\n",
        "# put as embedding = too many kinds\n",
        "vocab = data['Ticket'].unique()\n",
        "cat = tf.feature_column.categorical_column_with_vocabulary_list('Ticket', vocab)\n",
        "embedding = tf.feature_column.embedding_column(cat, dimension=9)\n",
        "feature_columns.append( embedding )\n"
      ],
      "metadata": {
        "colab": {
          "base_uri": "https://localhost:8080/"
        },
        "id": "0a4irrZtp3vi",
        "outputId": "6587a977-b586-4bdc-a51a-7288023a2023"
      },
      "execution_count": 12,
      "outputs": [
        {
          "output_type": "stream",
          "name": "stderr",
          "text": [
            "WARNING:tensorflow:From <ipython-input-12-61c571ee3b09>:10: bucketized_column (from tensorflow.python.feature_column.feature_column_v2) is deprecated and will be removed in a future version.\n",
            "Instructions for updating:\n",
            "Use Keras preprocessing layers instead, either directly or via the `tf.keras.utils.FeatureSpace` utility. Each of `tf.feature_column.*` has a functional equivalent in `tf.keras.layers` for feature preprocessing when training a Keras model.\n",
            "WARNING:tensorflow:From <ipython-input-12-61c571ee3b09>:15: categorical_column_with_vocabulary_list (from tensorflow.python.feature_column.feature_column_v2) is deprecated and will be removed in a future version.\n",
            "Instructions for updating:\n",
            "Use Keras preprocessing layers instead, either directly or via the `tf.keras.utils.FeatureSpace` utility. Each of `tf.feature_column.*` has a functional equivalent in `tf.keras.layers` for feature preprocessing when training a Keras model.\n",
            "WARNING:tensorflow:From <ipython-input-12-61c571ee3b09>:16: indicator_column (from tensorflow.python.feature_column.feature_column_v2) is deprecated and will be removed in a future version.\n",
            "Instructions for updating:\n",
            "Use Keras preprocessing layers instead, either directly or via the `tf.keras.utils.FeatureSpace` utility. Each of `tf.feature_column.*` has a functional equivalent in `tf.keras.layers` for feature preprocessing when training a Keras model.\n",
            "WARNING:tensorflow:From <ipython-input-12-61c571ee3b09>:32: embedding_column (from tensorflow.python.feature_column.feature_column_v2) is deprecated and will be removed in a future version.\n",
            "Instructions for updating:\n",
            "Use Keras preprocessing layers instead, either directly or via the `tf.keras.utils.FeatureSpace` utility. Each of `tf.feature_column.*` has a functional equivalent in `tf.keras.layers` for feature preprocessing when training a Keras model.\n"
          ]
        }
      ]
    },
    {
      "cell_type": "code",
      "source": [
        "ds_batch = ds.batch(32)\n",
        "\n",
        "feature_layer = tf.keras.layers.DenseFeatures( tf.feature_column.numeric_column('Fare') )\n",
        "feature_layer(next(iter(ds_batch))[0])\n",
        "\n",
        "\n"
      ],
      "metadata": {
        "colab": {
          "base_uri": "https://localhost:8080/"
        },
        "id": "8iOt6bqNwU5T",
        "outputId": "d165067b-d81e-46db-9dbc-374b5e1aaf99"
      },
      "execution_count": 16,
      "outputs": [
        {
          "output_type": "execute_result",
          "data": {
            "text/plain": [
              "<tf.Tensor: shape=(32, 1), dtype=float32, numpy=\n",
              "array([[  7.25  ],\n",
              "       [ 71.2833],\n",
              "       [  7.925 ],\n",
              "       [ 53.1   ],\n",
              "       [  8.05  ],\n",
              "       [  8.4583],\n",
              "       [ 51.8625],\n",
              "       [ 21.075 ],\n",
              "       [ 11.1333],\n",
              "       [ 30.0708],\n",
              "       [ 16.7   ],\n",
              "       [ 26.55  ],\n",
              "       [  8.05  ],\n",
              "       [ 31.275 ],\n",
              "       [  7.8542],\n",
              "       [ 16.    ],\n",
              "       [ 29.125 ],\n",
              "       [ 13.    ],\n",
              "       [ 18.    ],\n",
              "       [  7.225 ],\n",
              "       [ 26.    ],\n",
              "       [ 13.    ],\n",
              "       [  8.0292],\n",
              "       [ 35.5   ],\n",
              "       [ 21.075 ],\n",
              "       [ 31.3875],\n",
              "       [  7.225 ],\n",
              "       [263.    ],\n",
              "       [  7.8792],\n",
              "       [  7.8958],\n",
              "       [ 27.7208],\n",
              "       [146.5208]], dtype=float32)>"
            ]
          },
          "metadata": {},
          "execution_count": 16
        }
      ]
    },
    {
      "cell_type": "code",
      "source": [
        "model = tf.keras.Sequential([\n",
        "    \n",
        "    tf.keras.layers.DenseFeatures(feature_columns),\n",
        "\n",
        "    tf.keras.layers.Dense(128, activation='relu'),\n",
        "    tf.keras.layers.Dense(64, activation='relu'),\n",
        "    tf.keras.layers.Dropout(0.2),\n",
        "    tf.keras.layers.Dense(1, activation='sigmoid'), # 1 = survived, 0 = dead\n",
        "    \n",
        "])\n",
        "\n",
        "model.compile(optimizer='adam', loss='binary_crossentropy', metrics=['acc'])\n",
        "\n",
        "ds_batch = ds.batch(32)\n",
        "\n",
        "model.fit(ds_batch, shuffle=True, epochs=20)"
      ],
      "metadata": {
        "colab": {
          "base_uri": "https://localhost:8080/"
        },
        "id": "sRKHgUuFvI1k",
        "outputId": "38949104-b1d2-442b-8483-d42185e5f846"
      },
      "execution_count": 15,
      "outputs": [
        {
          "output_type": "stream",
          "name": "stdout",
          "text": [
            "Epoch 1/20\n"
          ]
        },
        {
          "output_type": "stream",
          "name": "stderr",
          "text": [
            "WARNING:tensorflow:Layers in a Sequential model should only have a single input tensor. Received: inputs={'PassengerId': <tf.Tensor 'IteratorGetNext:5' shape=(None,) dtype=int64>, 'Pclass': <tf.Tensor 'IteratorGetNext:6' shape=(None,) dtype=int64>, 'Name': <tf.Tensor 'IteratorGetNext:3' shape=(None,) dtype=string>, 'Sex': <tf.Tensor 'IteratorGetNext:7' shape=(None,) dtype=string>, 'Age': <tf.Tensor 'IteratorGetNext:0' shape=(None,) dtype=float64>, 'SibSp': <tf.Tensor 'IteratorGetNext:8' shape=(None,) dtype=int64>, 'Parch': <tf.Tensor 'IteratorGetNext:4' shape=(None,) dtype=int64>, 'Ticket': <tf.Tensor 'IteratorGetNext:9' shape=(None,) dtype=string>, 'Fare': <tf.Tensor 'IteratorGetNext:2' shape=(None,) dtype=float64>, 'Embarked': <tf.Tensor 'IteratorGetNext:1' shape=(None,) dtype=string>}. Consider rewriting this model with the Functional API.\n",
            "WARNING:tensorflow:Layers in a Sequential model should only have a single input tensor. Received: inputs={'PassengerId': <tf.Tensor 'IteratorGetNext:5' shape=(None,) dtype=int64>, 'Pclass': <tf.Tensor 'IteratorGetNext:6' shape=(None,) dtype=int64>, 'Name': <tf.Tensor 'IteratorGetNext:3' shape=(None,) dtype=string>, 'Sex': <tf.Tensor 'IteratorGetNext:7' shape=(None,) dtype=string>, 'Age': <tf.Tensor 'IteratorGetNext:0' shape=(None,) dtype=float64>, 'SibSp': <tf.Tensor 'IteratorGetNext:8' shape=(None,) dtype=int64>, 'Parch': <tf.Tensor 'IteratorGetNext:4' shape=(None,) dtype=int64>, 'Ticket': <tf.Tensor 'IteratorGetNext:9' shape=(None,) dtype=string>, 'Fare': <tf.Tensor 'IteratorGetNext:2' shape=(None,) dtype=float64>, 'Embarked': <tf.Tensor 'IteratorGetNext:1' shape=(None,) dtype=string>}. Consider rewriting this model with the Functional API.\n"
          ]
        },
        {
          "output_type": "stream",
          "name": "stdout",
          "text": [
            "28/28 [==============================] - 4s 4ms/step - loss: 1.0935 - acc: 0.5455\n",
            "Epoch 2/20\n",
            "28/28 [==============================] - 0s 4ms/step - loss: 0.7837 - acc: 0.6813\n",
            "Epoch 3/20\n",
            "28/28 [==============================] - 0s 4ms/step - loss: 0.7249 - acc: 0.6970\n",
            "Epoch 4/20\n",
            "28/28 [==============================] - 0s 4ms/step - loss: 0.6060 - acc: 0.7441\n",
            "Epoch 5/20\n",
            "28/28 [==============================] - 0s 4ms/step - loss: 0.5907 - acc: 0.7856\n",
            "Epoch 6/20\n",
            "28/28 [==============================] - 0s 3ms/step - loss: 0.5041 - acc: 0.7924\n",
            "Epoch 7/20\n",
            "28/28 [==============================] - 0s 4ms/step - loss: 0.5748 - acc: 0.7823\n",
            "Epoch 8/20\n",
            "28/28 [==============================] - 0s 4ms/step - loss: 0.4493 - acc: 0.8204\n",
            "Epoch 9/20\n",
            "28/28 [==============================] - 0s 4ms/step - loss: 0.4737 - acc: 0.8171\n",
            "Epoch 10/20\n",
            "28/28 [==============================] - 0s 4ms/step - loss: 0.4613 - acc: 0.8047\n",
            "Epoch 11/20\n",
            "28/28 [==============================] - 0s 4ms/step - loss: 0.3886 - acc: 0.8395\n",
            "Epoch 12/20\n",
            "28/28 [==============================] - 0s 4ms/step - loss: 0.3970 - acc: 0.8462\n",
            "Epoch 13/20\n",
            "28/28 [==============================] - 0s 4ms/step - loss: 0.3607 - acc: 0.8462\n",
            "Epoch 14/20\n",
            "28/28 [==============================] - 0s 4ms/step - loss: 0.3524 - acc: 0.8664\n",
            "Epoch 15/20\n",
            "28/28 [==============================] - 0s 4ms/step - loss: 0.2733 - acc: 0.8878\n",
            "Epoch 16/20\n",
            "28/28 [==============================] - 0s 4ms/step - loss: 0.2867 - acc: 0.8967\n",
            "Epoch 17/20\n",
            "28/28 [==============================] - 0s 4ms/step - loss: 0.2753 - acc: 0.9102\n",
            "Epoch 18/20\n",
            "28/28 [==============================] - 0s 4ms/step - loss: 0.2095 - acc: 0.9203\n",
            "Epoch 19/20\n",
            "28/28 [==============================] - 0s 4ms/step - loss: 0.2383 - acc: 0.9226\n",
            "Epoch 20/20\n",
            "28/28 [==============================] - 0s 4ms/step - loss: 0.1564 - acc: 0.9484\n"
          ]
        },
        {
          "output_type": "execute_result",
          "data": {
            "text/plain": [
              "<keras.callbacks.History at 0x7f63f60ed250>"
            ]
          },
          "metadata": {},
          "execution_count": 15
        }
      ]
    }
  ]
}